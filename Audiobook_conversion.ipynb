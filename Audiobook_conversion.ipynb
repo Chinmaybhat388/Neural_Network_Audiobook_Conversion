{
  "nbformat": 4,
  "nbformat_minor": 0,
  "metadata": {
    "colab": {
      "name": "Audiobook_conversion.ipynb",
      "provenance": [],
      "collapsed_sections": []
    },
    "kernelspec": {
      "name": "python3",
      "display_name": "Python 3"
    }
  },
  "cells": [
    {
      "cell_type": "markdown",
      "metadata": {
        "id": "p11R6NLAf8Vg",
        "colab_type": "text"
      },
      "source": [
        "# Audiobook Customer Data\n",
        "\n",
        "The data is from an audiobook company that collected all the attributes from it's customer base over a period of 2 years. A further 6 months of data was collected to check if a customer would convert or not. \n",
        "\n",
        "In this case, a conversion is measured by a new purchase of audiobook."
      ]
    },
    {
      "cell_type": "code",
      "metadata": {
        "id": "041mxl2nRyVM",
        "colab_type": "code",
        "colab": {
          "resources": {
            "http://localhost:8080/nbextensions/google.colab/files.js": {
              "data": "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",
              "ok": true,
              "headers": [
                [
                  "content-type",
                  "application/javascript"
                ]
              ],
              "status": 200,
              "status_text": ""
            }
          },
          "base_uri": "https://localhost:8080/",
          "height": 72
        },
        "outputId": "ea913db0-2b73-4e17-9632-63970d95791e"
      },
      "source": [
        "import numpy as np\n",
        "import pandas as pd\n",
        "import tensorflow as tf\n",
        "import sklearn.model_selection \n",
        "from sklearn.model_selection import GridSearchCV\n",
        "from sklearn import preprocessing\n",
        "from keras.wrappers.scikit_learn import KerasClassifier\n",
        "\n",
        "\n",
        "#To import file from the local drive\n",
        "from google.colab import files\n",
        "import io\n",
        "\n",
        "#Prompts to upload the required file\n",
        "uploaded = files.upload()"
      ],
      "execution_count": 1,
      "outputs": [
        {
          "output_type": "display_data",
          "data": {
            "text/html": [
              "\n",
              "     <input type=\"file\" id=\"files-4ad33225-7c63-46fd-97e0-349ea2fdf518\" name=\"files[]\" multiple disabled\n",
              "        style=\"border:none\" />\n",
              "     <output id=\"result-4ad33225-7c63-46fd-97e0-349ea2fdf518\">\n",
              "      Upload widget is only available when the cell has been executed in the\n",
              "      current browser session. Please rerun this cell to enable.\n",
              "      </output>\n",
              "      <script src=\"/nbextensions/google.colab/files.js\"></script> "
            ],
            "text/plain": [
              "<IPython.core.display.HTML object>"
            ]
          },
          "metadata": {
            "tags": []
          }
        },
        {
          "output_type": "stream",
          "text": [
            "Saving Audiobooks_data.csv to Audiobooks_data.csv\n"
          ],
          "name": "stdout"
        }
      ]
    },
    {
      "cell_type": "code",
      "metadata": {
        "id": "YrsRDNw_UwdP",
        "colab_type": "code",
        "colab": {}
      },
      "source": [
        "audiobook_df = pd.read_csv(io.BytesIO(uploaded['Audiobooks_data.csv']))"
      ],
      "execution_count": 2,
      "outputs": []
    },
    {
      "cell_type": "markdown",
      "metadata": {
        "id": "FsjE3PfJbPTG",
        "colab_type": "text"
      },
      "source": [
        "The missing values have been preprocessed, i.e all of them have been imputed with averages."
      ]
    },
    {
      "cell_type": "code",
      "metadata": {
        "id": "qqd6HC7wXWiy",
        "colab_type": "code",
        "colab": {
          "base_uri": "https://localhost:8080/",
          "height": 238
        },
        "outputId": "52354576-cab7-48bb-8b98-3641f9fc347e"
      },
      "source": [
        "print(audiobook_df.shape)\n",
        "\n",
        "#Snippet of the dataset\n",
        "audiobook_df.head()"
      ],
      "execution_count": 3,
      "outputs": [
        {
          "output_type": "stream",
          "text": [
            "(14084, 12)\n"
          ],
          "name": "stdout"
        },
        {
          "output_type": "execute_result",
          "data": {
            "text/html": [
              "<div>\n",
              "<style scoped>\n",
              "    .dataframe tbody tr th:only-of-type {\n",
              "        vertical-align: middle;\n",
              "    }\n",
              "\n",
              "    .dataframe tbody tr th {\n",
              "        vertical-align: top;\n",
              "    }\n",
              "\n",
              "    .dataframe thead th {\n",
              "        text-align: right;\n",
              "    }\n",
              "</style>\n",
              "<table border=\"1\" class=\"dataframe\">\n",
              "  <thead>\n",
              "    <tr style=\"text-align: right;\">\n",
              "      <th></th>\n",
              "      <th>ID</th>\n",
              "      <th>Book length(mins) overall</th>\n",
              "      <th>Book length(mins) avg</th>\n",
              "      <th>Price_avg</th>\n",
              "      <th>Price_overall</th>\n",
              "      <th>Review</th>\n",
              "      <th>Review 10/10</th>\n",
              "      <th>Completion</th>\n",
              "      <th>Minutes listened</th>\n",
              "      <th>Support requests</th>\n",
              "      <th>Last visited minus purchasse date</th>\n",
              "      <th>Target</th>\n",
              "    </tr>\n",
              "  </thead>\n",
              "  <tbody>\n",
              "    <tr>\n",
              "      <th>0</th>\n",
              "      <td>994</td>\n",
              "      <td>1620.0</td>\n",
              "      <td>1620</td>\n",
              "      <td>19.73</td>\n",
              "      <td>7.00</td>\n",
              "      <td>1</td>\n",
              "      <td>10.00</td>\n",
              "      <td>0.99</td>\n",
              "      <td>1603.8</td>\n",
              "      <td>5</td>\n",
              "      <td>92</td>\n",
              "      <td>0</td>\n",
              "    </tr>\n",
              "    <tr>\n",
              "      <th>1</th>\n",
              "      <td>1143</td>\n",
              "      <td>2160.0</td>\n",
              "      <td>2160</td>\n",
              "      <td>5.33</td>\n",
              "      <td>5.33</td>\n",
              "      <td>0</td>\n",
              "      <td>8.91</td>\n",
              "      <td>0.00</td>\n",
              "      <td>0.0</td>\n",
              "      <td>0</td>\n",
              "      <td>0</td>\n",
              "      <td>0</td>\n",
              "    </tr>\n",
              "    <tr>\n",
              "      <th>2</th>\n",
              "      <td>2059</td>\n",
              "      <td>2160.0</td>\n",
              "      <td>2160</td>\n",
              "      <td>5.33</td>\n",
              "      <td>5.33</td>\n",
              "      <td>0</td>\n",
              "      <td>8.91</td>\n",
              "      <td>0.00</td>\n",
              "      <td>0.0</td>\n",
              "      <td>0</td>\n",
              "      <td>388</td>\n",
              "      <td>0</td>\n",
              "    </tr>\n",
              "    <tr>\n",
              "      <th>3</th>\n",
              "      <td>2882</td>\n",
              "      <td>1620.0</td>\n",
              "      <td>1620</td>\n",
              "      <td>5.96</td>\n",
              "      <td>5.96</td>\n",
              "      <td>0</td>\n",
              "      <td>8.91</td>\n",
              "      <td>0.42</td>\n",
              "      <td>680.4</td>\n",
              "      <td>1</td>\n",
              "      <td>129</td>\n",
              "      <td>0</td>\n",
              "    </tr>\n",
              "    <tr>\n",
              "      <th>4</th>\n",
              "      <td>3342</td>\n",
              "      <td>2160.0</td>\n",
              "      <td>2160</td>\n",
              "      <td>5.33</td>\n",
              "      <td>5.33</td>\n",
              "      <td>0</td>\n",
              "      <td>8.91</td>\n",
              "      <td>0.22</td>\n",
              "      <td>475.2</td>\n",
              "      <td>0</td>\n",
              "      <td>361</td>\n",
              "      <td>0</td>\n",
              "    </tr>\n",
              "  </tbody>\n",
              "</table>\n",
              "</div>"
            ],
            "text/plain": [
              "     ID  Book length(mins) overall  ...  Last visited minus purchasse date  Target\n",
              "0   994                     1620.0  ...                                 92       0\n",
              "1  1143                     2160.0  ...                                  0       0\n",
              "2  2059                     2160.0  ...                                388       0\n",
              "3  2882                     1620.0  ...                                129       0\n",
              "4  3342                     2160.0  ...                                361       0\n",
              "\n",
              "[5 rows x 12 columns]"
            ]
          },
          "metadata": {
            "tags": []
          },
          "execution_count": 3
        }
      ]
    },
    {
      "cell_type": "markdown",
      "metadata": {
        "id": "CR9W1Nv-b0L8",
        "colab_type": "text"
      },
      "source": [
        "We have 11 independant features. The Target variable is what needs to be predicted by our model."
      ]
    },
    {
      "cell_type": "markdown",
      "metadata": {
        "id": "V2Jfj5QrhZQG",
        "colab_type": "text"
      },
      "source": [
        "## Balancing the dataset\n",
        "\n",
        "Our data has 85% of target class 0 and only 15% of target class 1. This is highly imbalanced."
      ]
    },
    {
      "cell_type": "code",
      "metadata": {
        "id": "HYkpX6SDX5vX",
        "colab_type": "code",
        "colab": {
          "base_uri": "https://localhost:8080/",
          "height": 68
        },
        "outputId": "bec0c8f9-7f42-463f-d8dd-020ed90ca3c2"
      },
      "source": [
        "audiobook_df['Target'].value_counts()"
      ],
      "execution_count": 4,
      "outputs": [
        {
          "output_type": "execute_result",
          "data": {
            "text/plain": [
              "0    11847\n",
              "1     2237\n",
              "Name: Target, dtype: int64"
            ]
          },
          "metadata": {
            "tags": []
          },
          "execution_count": 4
        }
      ]
    },
    {
      "cell_type": "code",
      "metadata": {
        "id": "Tt4aVfcghR9P",
        "colab_type": "code",
        "colab": {
          "base_uri": "https://localhost:8080/",
          "height": 34
        },
        "outputId": "ecf7099a-286b-4c7a-ff67-07b40e7fd275"
      },
      "source": [
        "# Removing all target values that are 0 such that the number of 0s and 1s are equal.\n",
        "target_value_1 = 2237\n",
        "target_indices_to_remove = [] #indices of the target values that will be removed.\n",
        "target_0_counter = 0          #Set the counter to 0 initially.\n",
        "\n",
        "for i in range(audiobook_df.shape[0]):\n",
        "  if audiobook_df['Target'][i] == 0:\n",
        "    target_0_counter += 1\n",
        "    if target_0_counter > target_value_1:\n",
        "      target_indices_to_remove.append(i)\n",
        "\n",
        "print(f'Number of rows to be removed : {len(target_indices_to_remove)}')\n",
        "\n"
      ],
      "execution_count": 5,
      "outputs": [
        {
          "output_type": "stream",
          "text": [
            "Number of rows to be removed : 9610\n"
          ],
          "name": "stdout"
        }
      ]
    },
    {
      "cell_type": "code",
      "metadata": {
        "id": "2V38MA4Gowi5",
        "colab_type": "code",
        "colab": {
          "base_uri": "https://localhost:8080/",
          "height": 34
        },
        "outputId": "acc592e1-7f7f-4e77-af2c-e979b41b6bdc"
      },
      "source": [
        "#Drop the list of indices returned previously.\n",
        "audiobook_balanced_df = audiobook_df.drop(audiobook_df.index[target_indices_to_remove],axis=0)\n",
        "audiobook_balanced_df.reset_index(drop=True)\n",
        "audiobook_balanced_df.shape"
      ],
      "execution_count": 6,
      "outputs": [
        {
          "output_type": "execute_result",
          "data": {
            "text/plain": [
              "(4474, 12)"
            ]
          },
          "metadata": {
            "tags": []
          },
          "execution_count": 6
        }
      ]
    },
    {
      "cell_type": "code",
      "metadata": {
        "id": "O5STOAUthpht",
        "colab_type": "code",
        "colab": {
          "base_uri": "https://localhost:8080/",
          "height": 68
        },
        "outputId": "ef902055-5e62-441b-b15d-72745bd5ce80"
      },
      "source": [
        "audiobook_balanced_df['Target'].value_counts()"
      ],
      "execution_count": 7,
      "outputs": [
        {
          "output_type": "execute_result",
          "data": {
            "text/plain": [
              "1    2237\n",
              "0    2237\n",
              "Name: Target, dtype: int64"
            ]
          },
          "metadata": {
            "tags": []
          },
          "execution_count": 7
        }
      ]
    },
    {
      "cell_type": "markdown",
      "metadata": {
        "id": "psjWetJG-8W1",
        "colab_type": "text"
      },
      "source": [
        "The skewed ratio has been corrected to 50% each class."
      ]
    },
    {
      "cell_type": "markdown",
      "metadata": {
        "id": "uyMJ6tg9-89s",
        "colab_type": "text"
      },
      "source": [
        "## Feature selection\n",
        "\n",
        "We can keep all of the features except for the ID column."
      ]
    },
    {
      "cell_type": "code",
      "metadata": {
        "id": "RhzRqnau7LfI",
        "colab_type": "code",
        "colab": {}
      },
      "source": [
        "audiobook_balanced_df.drop(['ID'],axis=1,inplace=True)"
      ],
      "execution_count": 8,
      "outputs": []
    },
    {
      "cell_type": "markdown",
      "metadata": {
        "id": "nAdOFVJaDOBE",
        "colab_type": "text"
      },
      "source": [
        "## Shuffle the data"
      ]
    },
    {
      "cell_type": "code",
      "metadata": {
        "id": "XsoEH_DU6O5j",
        "colab_type": "code",
        "colab": {}
      },
      "source": [
        "# Let's shuffle the dataset \n",
        "audiobook_balanced_shuffled = audiobook_balanced_df.sample(frac=1)"
      ],
      "execution_count": 9,
      "outputs": []
    },
    {
      "cell_type": "markdown",
      "metadata": {
        "id": "x8Mo78SjDxV9",
        "colab_type": "text"
      },
      "source": [
        "## Standardize the data"
      ]
    },
    {
      "cell_type": "code",
      "metadata": {
        "id": "cYOs5f-hDfrT",
        "colab_type": "code",
        "colab": {
          "base_uri": "https://localhost:8080/",
          "height": 34
        },
        "outputId": "4bb19286-12ad-4cc7-e4c3-83ca200a0682"
      },
      "source": [
        "# Before standardizing, let us seperate the i/p variables and the target variable.\n",
        "targets = audiobook_balanced_shuffled.iloc[:,-1]\n",
        "targets.shape"
      ],
      "execution_count": 10,
      "outputs": [
        {
          "output_type": "execute_result",
          "data": {
            "text/plain": [
              "(4474,)"
            ]
          },
          "metadata": {
            "tags": []
          },
          "execution_count": 10
        }
      ]
    },
    {
      "cell_type": "code",
      "metadata": {
        "id": "dZTPzyaQFt4k",
        "colab_type": "code",
        "colab": {
          "base_uri": "https://localhost:8080/",
          "height": 34
        },
        "outputId": "88c1fa87-adb6-49b9-a7dc-400043375949"
      },
      "source": [
        "audiobook_balanced_shuffled.drop(['Target'],axis=1,inplace=True)\n",
        "audiobook_balanced_shuffled.shape"
      ],
      "execution_count": 11,
      "outputs": [
        {
          "output_type": "execute_result",
          "data": {
            "text/plain": [
              "(4474, 10)"
            ]
          },
          "metadata": {
            "tags": []
          },
          "execution_count": 11
        }
      ]
    },
    {
      "cell_type": "code",
      "metadata": {
        "id": "6qwR2jVsGInn",
        "colab_type": "code",
        "colab": {}
      },
      "source": [
        "scaler = preprocessing.StandardScaler()\n",
        "\n",
        "audiobook_balanced_shuffledScaled = scaler.fit_transform(audiobook_balanced_shuffled)"
      ],
      "execution_count": 12,
      "outputs": []
    },
    {
      "cell_type": "markdown",
      "metadata": {
        "id": "SWRAUxGh1_Tb",
        "colab_type": "text"
      },
      "source": [
        "## Train Test split\n",
        "\n",
        "Let's create a train,test and validation split in the ration 80:10:10."
      ]
    },
    {
      "cell_type": "code",
      "metadata": {
        "id": "J10wVxbAyGnN",
        "colab_type": "code",
        "colab": {}
      },
      "source": [
        "#Create train and test splits\n",
        "X_train,X_test,Y_train,Y_test = sklearn.model_selection.train_test_split(audiobook_balanced_shuffledScaled,targets,test_size=0.2, random_state=1)\n",
        "\n",
        "#Create another validation set from the test set.\n",
        "X_test,X_val,Y_test,Y_val = sklearn.model_selection.train_test_split(X_test,Y_test,test_size=0.5, random_state=1)"
      ],
      "execution_count": 13,
      "outputs": []
    },
    {
      "cell_type": "code",
      "metadata": {
        "id": "5iphbuDi44BA",
        "colab_type": "code",
        "colab": {
          "base_uri": "https://localhost:8080/",
          "height": 255
        },
        "outputId": "1265358e-65f0-424e-b317-fc7a010f412f"
      },
      "source": [
        "print(f'Training set size :{X_train.shape[0]},\\n Value counts : {Y_train.value_counts()}\\n')\n",
        "print(f'Test set size : {X_test.shape[0]},\\n Value counts : {Y_test.value_counts()}\\n')\n",
        "print(f'Validation set size : {X_val.shape[0]},\\n Value counts : {Y_val.value_counts()}')"
      ],
      "execution_count": 14,
      "outputs": [
        {
          "output_type": "stream",
          "text": [
            "Training set size :3579,\n",
            " Value counts : 1    1790\n",
            "0    1789\n",
            "Name: Target, dtype: int64\n",
            "\n",
            "Test set size : 447,\n",
            " Value counts : 0    227\n",
            "1    220\n",
            "Name: Target, dtype: int64\n",
            "\n",
            "Validation set size : 448,\n",
            " Value counts : 1    227\n",
            "0    221\n",
            "Name: Target, dtype: int64\n"
          ],
          "name": "stdout"
        }
      ]
    },
    {
      "cell_type": "markdown",
      "metadata": {
        "id": "MnuHinpg7XDr",
        "colab_type": "text"
      },
      "source": [
        "## Save the datasets in npz format"
      ]
    },
    {
      "cell_type": "code",
      "metadata": {
        "id": "EsTTa3Yd6sJP",
        "colab_type": "code",
        "colab": {}
      },
      "source": [
        "np.savez('Audiobooks_data_train',ip = X_train, op = Y_train)\n",
        "np.savez('Audiobooks_data_test',ip = X_test, op = Y_test)\n",
        "np.savez('Audiobooks_data_validation',ip = X_val, op = Y_val)"
      ],
      "execution_count": 15,
      "outputs": []
    },
    {
      "cell_type": "code",
      "metadata": {
        "id": "GeNWyl6p3YyZ",
        "colab_type": "code",
        "colab": {}
      },
      "source": [
        "#Training variables\n",
        "data = np.load('Audiobooks_data_train.npz')\n",
        "train_inputs = data['ip'].astype(np.float)\n",
        "train_outputs = data['op'].astype(np.int)\n",
        "\n",
        "#Validationn variables\n",
        "data = np.load('Audiobooks_data_validation.npz')\n",
        "validation_inputs = data['ip'].astype(np.float)\n",
        "validation_outputs = data['op'].astype(np.int)\n",
        "\n",
        "#Testing variables\n",
        "data = np.load('Audiobooks_data_test.npz')\n",
        "test_inputs = data['ip'].astype(np.float)\n",
        "test_outputs = data['op'].astype(np.int)"
      ],
      "execution_count": 16,
      "outputs": []
    },
    {
      "cell_type": "markdown",
      "metadata": {
        "id": "bYW_DSFY3aKZ",
        "colab_type": "text"
      },
      "source": [
        "## Model"
      ]
    },
    {
      "cell_type": "code",
      "metadata": {
        "id": "rUvamRHzzY_S",
        "colab_type": "code",
        "colab": {
          "base_uri": "https://localhost:8080/",
          "height": 1000
        },
        "outputId": "f05ecc43-f0f0-4eab-b33e-d9756c931e3e"
      },
      "source": [
        "input_size = 10\n",
        "hidden_layer_size = 200\n",
        "output_size = 2\n",
        "\n",
        "model = tf.keras.Sequential([\n",
        "                            tf.keras.layers.Dense(hidden_layer_size,activation='relu'),\n",
        "                            tf.keras.layers.Dense(hidden_layer_size,activation='relu'),\n",
        "                            tf.keras.layers.Dense(hidden_layer_size,activation='relu'),\n",
        "                            tf.keras.layers.Dense(output_size,activation='softmax')\n",
        "])\n",
        "#optimizer = tf.keras.optimizers.Adam(learning_rate=0.1, beta_1=0.9, beta_2=0.999, epsilon=1e-07, amsgrad=False,name='Adam')\n",
        "model.compile(optimizer='adam',loss='sparse_categorical_crossentropy',metrics=['accuracy'])\n",
        "\n",
        "batch_size = 100\n",
        "max_epochs = 100\n",
        "\n",
        "model.fit(train_inputs,train_outputs,validation_data=(validation_inputs,validation_outputs),batch_size=batch_size, epochs=max_epochs)"
      ],
      "execution_count": 31,
      "outputs": [
        {
          "output_type": "stream",
          "text": [
            "Epoch 1/100\n",
            "36/36 [==============================] - 0s 8ms/step - loss: 0.4871 - accuracy: 0.7323 - val_loss: 0.4065 - val_accuracy: 0.7701\n",
            "Epoch 2/100\n",
            "36/36 [==============================] - 0s 5ms/step - loss: 0.3856 - accuracy: 0.7868 - val_loss: 0.4122 - val_accuracy: 0.7656\n",
            "Epoch 3/100\n",
            "36/36 [==============================] - 0s 4ms/step - loss: 0.3623 - accuracy: 0.8039 - val_loss: 0.3724 - val_accuracy: 0.7946\n",
            "Epoch 4/100\n",
            "36/36 [==============================] - 0s 4ms/step - loss: 0.3492 - accuracy: 0.8061 - val_loss: 0.4138 - val_accuracy: 0.7768\n",
            "Epoch 5/100\n",
            "36/36 [==============================] - 0s 5ms/step - loss: 0.3462 - accuracy: 0.8167 - val_loss: 0.4036 - val_accuracy: 0.7723\n",
            "Epoch 6/100\n",
            "36/36 [==============================] - 0s 5ms/step - loss: 0.3393 - accuracy: 0.8220 - val_loss: 0.3677 - val_accuracy: 0.8058\n",
            "Epoch 7/100\n",
            "36/36 [==============================] - 0s 5ms/step - loss: 0.3415 - accuracy: 0.8175 - val_loss: 0.3604 - val_accuracy: 0.7812\n",
            "Epoch 8/100\n",
            "36/36 [==============================] - 0s 5ms/step - loss: 0.3360 - accuracy: 0.8159 - val_loss: 0.3636 - val_accuracy: 0.8058\n",
            "Epoch 9/100\n",
            "36/36 [==============================] - 0s 4ms/step - loss: 0.3324 - accuracy: 0.8136 - val_loss: 0.3969 - val_accuracy: 0.7879\n",
            "Epoch 10/100\n",
            "36/36 [==============================] - 0s 5ms/step - loss: 0.3343 - accuracy: 0.8164 - val_loss: 0.3683 - val_accuracy: 0.8013\n",
            "Epoch 11/100\n",
            "36/36 [==============================] - 0s 5ms/step - loss: 0.3271 - accuracy: 0.8201 - val_loss: 0.3676 - val_accuracy: 0.7835\n",
            "Epoch 12/100\n",
            "36/36 [==============================] - 0s 5ms/step - loss: 0.3213 - accuracy: 0.8226 - val_loss: 0.3713 - val_accuracy: 0.7946\n",
            "Epoch 13/100\n",
            "36/36 [==============================] - 0s 5ms/step - loss: 0.3183 - accuracy: 0.8296 - val_loss: 0.3738 - val_accuracy: 0.7969\n",
            "Epoch 14/100\n",
            "36/36 [==============================] - 0s 5ms/step - loss: 0.3281 - accuracy: 0.8229 - val_loss: 0.3640 - val_accuracy: 0.7969\n",
            "Epoch 15/100\n",
            "36/36 [==============================] - 0s 4ms/step - loss: 0.3202 - accuracy: 0.8220 - val_loss: 0.3611 - val_accuracy: 0.7969\n",
            "Epoch 16/100\n",
            "36/36 [==============================] - 0s 5ms/step - loss: 0.3230 - accuracy: 0.8150 - val_loss: 0.4079 - val_accuracy: 0.7790\n",
            "Epoch 17/100\n",
            "36/36 [==============================] - 0s 5ms/step - loss: 0.3274 - accuracy: 0.8284 - val_loss: 0.3721 - val_accuracy: 0.7835\n",
            "Epoch 18/100\n",
            "36/36 [==============================] - 0s 5ms/step - loss: 0.3152 - accuracy: 0.8265 - val_loss: 0.3762 - val_accuracy: 0.7857\n",
            "Epoch 19/100\n",
            "36/36 [==============================] - 0s 5ms/step - loss: 0.3213 - accuracy: 0.8164 - val_loss: 0.3625 - val_accuracy: 0.7879\n",
            "Epoch 20/100\n",
            "36/36 [==============================] - 0s 5ms/step - loss: 0.3205 - accuracy: 0.8220 - val_loss: 0.3878 - val_accuracy: 0.8013\n",
            "Epoch 21/100\n",
            "36/36 [==============================] - 0s 5ms/step - loss: 0.3173 - accuracy: 0.8226 - val_loss: 0.3798 - val_accuracy: 0.7857\n",
            "Epoch 22/100\n",
            "36/36 [==============================] - 0s 6ms/step - loss: 0.3147 - accuracy: 0.8301 - val_loss: 0.3660 - val_accuracy: 0.7924\n",
            "Epoch 23/100\n",
            "36/36 [==============================] - 0s 5ms/step - loss: 0.3142 - accuracy: 0.8217 - val_loss: 0.3769 - val_accuracy: 0.7857\n",
            "Epoch 24/100\n",
            "36/36 [==============================] - 0s 6ms/step - loss: 0.3102 - accuracy: 0.8324 - val_loss: 0.3765 - val_accuracy: 0.7812\n",
            "Epoch 25/100\n",
            "36/36 [==============================] - 0s 6ms/step - loss: 0.3191 - accuracy: 0.8215 - val_loss: 0.3908 - val_accuracy: 0.7946\n",
            "Epoch 26/100\n",
            "36/36 [==============================] - 0s 5ms/step - loss: 0.3160 - accuracy: 0.8212 - val_loss: 0.3678 - val_accuracy: 0.7879\n",
            "Epoch 27/100\n",
            "36/36 [==============================] - 0s 5ms/step - loss: 0.3145 - accuracy: 0.8234 - val_loss: 0.3611 - val_accuracy: 0.7857\n",
            "Epoch 28/100\n",
            "36/36 [==============================] - 0s 6ms/step - loss: 0.3107 - accuracy: 0.8268 - val_loss: 0.3582 - val_accuracy: 0.7946\n",
            "Epoch 29/100\n",
            "36/36 [==============================] - 0s 6ms/step - loss: 0.3112 - accuracy: 0.8273 - val_loss: 0.3731 - val_accuracy: 0.8058\n",
            "Epoch 30/100\n",
            "36/36 [==============================] - 0s 6ms/step - loss: 0.3090 - accuracy: 0.8284 - val_loss: 0.3535 - val_accuracy: 0.7969\n",
            "Epoch 31/100\n",
            "36/36 [==============================] - 0s 5ms/step - loss: 0.3088 - accuracy: 0.8318 - val_loss: 0.3663 - val_accuracy: 0.7969\n",
            "Epoch 32/100\n",
            "36/36 [==============================] - 0s 6ms/step - loss: 0.3078 - accuracy: 0.8307 - val_loss: 0.3610 - val_accuracy: 0.8058\n",
            "Epoch 33/100\n",
            "36/36 [==============================] - 0s 5ms/step - loss: 0.3092 - accuracy: 0.8284 - val_loss: 0.3813 - val_accuracy: 0.7790\n",
            "Epoch 34/100\n",
            "36/36 [==============================] - 0s 6ms/step - loss: 0.3131 - accuracy: 0.8245 - val_loss: 0.3764 - val_accuracy: 0.7879\n",
            "Epoch 35/100\n",
            "36/36 [==============================] - 0s 5ms/step - loss: 0.3104 - accuracy: 0.8248 - val_loss: 0.3610 - val_accuracy: 0.7924\n",
            "Epoch 36/100\n",
            "36/36 [==============================] - 0s 5ms/step - loss: 0.3097 - accuracy: 0.8240 - val_loss: 0.3554 - val_accuracy: 0.7902\n",
            "Epoch 37/100\n",
            "36/36 [==============================] - 0s 5ms/step - loss: 0.3085 - accuracy: 0.8307 - val_loss: 0.3839 - val_accuracy: 0.7902\n",
            "Epoch 38/100\n",
            "36/36 [==============================] - 0s 5ms/step - loss: 0.3098 - accuracy: 0.8259 - val_loss: 0.3722 - val_accuracy: 0.7924\n",
            "Epoch 39/100\n",
            "36/36 [==============================] - 0s 5ms/step - loss: 0.3132 - accuracy: 0.8301 - val_loss: 0.3583 - val_accuracy: 0.7946\n",
            "Epoch 40/100\n",
            "36/36 [==============================] - 0s 6ms/step - loss: 0.3072 - accuracy: 0.8349 - val_loss: 0.3749 - val_accuracy: 0.7946\n",
            "Epoch 41/100\n",
            "36/36 [==============================] - 0s 5ms/step - loss: 0.3127 - accuracy: 0.8231 - val_loss: 0.3624 - val_accuracy: 0.7924\n",
            "Epoch 42/100\n",
            "36/36 [==============================] - 0s 6ms/step - loss: 0.3037 - accuracy: 0.8321 - val_loss: 0.3599 - val_accuracy: 0.8036\n",
            "Epoch 43/100\n",
            "36/36 [==============================] - 0s 5ms/step - loss: 0.3091 - accuracy: 0.8346 - val_loss: 0.3654 - val_accuracy: 0.7969\n",
            "Epoch 44/100\n",
            "36/36 [==============================] - 0s 5ms/step - loss: 0.3056 - accuracy: 0.8287 - val_loss: 0.3730 - val_accuracy: 0.7991\n",
            "Epoch 45/100\n",
            "36/36 [==============================] - 0s 5ms/step - loss: 0.3071 - accuracy: 0.8293 - val_loss: 0.3636 - val_accuracy: 0.7991\n",
            "Epoch 46/100\n",
            "36/36 [==============================] - 0s 5ms/step - loss: 0.3035 - accuracy: 0.8329 - val_loss: 0.3774 - val_accuracy: 0.7812\n",
            "Epoch 47/100\n",
            "36/36 [==============================] - 0s 5ms/step - loss: 0.3013 - accuracy: 0.8340 - val_loss: 0.3883 - val_accuracy: 0.7902\n",
            "Epoch 48/100\n",
            "36/36 [==============================] - 0s 5ms/step - loss: 0.3072 - accuracy: 0.8312 - val_loss: 0.3697 - val_accuracy: 0.7812\n",
            "Epoch 49/100\n",
            "36/36 [==============================] - 0s 6ms/step - loss: 0.3078 - accuracy: 0.8315 - val_loss: 0.3578 - val_accuracy: 0.7946\n",
            "Epoch 50/100\n",
            "36/36 [==============================] - 0s 5ms/step - loss: 0.3001 - accuracy: 0.8324 - val_loss: 0.3709 - val_accuracy: 0.7946\n",
            "Epoch 51/100\n",
            "36/36 [==============================] - 0s 5ms/step - loss: 0.3024 - accuracy: 0.8326 - val_loss: 0.3647 - val_accuracy: 0.7902\n",
            "Epoch 52/100\n",
            "36/36 [==============================] - 0s 5ms/step - loss: 0.3019 - accuracy: 0.8301 - val_loss: 0.3680 - val_accuracy: 0.7969\n",
            "Epoch 53/100\n",
            "36/36 [==============================] - 0s 5ms/step - loss: 0.3032 - accuracy: 0.8301 - val_loss: 0.3850 - val_accuracy: 0.7902\n",
            "Epoch 54/100\n",
            "36/36 [==============================] - 0s 5ms/step - loss: 0.3005 - accuracy: 0.8371 - val_loss: 0.3742 - val_accuracy: 0.7946\n",
            "Epoch 55/100\n",
            "36/36 [==============================] - 0s 5ms/step - loss: 0.3026 - accuracy: 0.8312 - val_loss: 0.3749 - val_accuracy: 0.8058\n",
            "Epoch 56/100\n",
            "36/36 [==============================] - 0s 6ms/step - loss: 0.3049 - accuracy: 0.8284 - val_loss: 0.3747 - val_accuracy: 0.7946\n",
            "Epoch 57/100\n",
            "36/36 [==============================] - 0s 5ms/step - loss: 0.3035 - accuracy: 0.8293 - val_loss: 0.3883 - val_accuracy: 0.8036\n",
            "Epoch 58/100\n",
            "36/36 [==============================] - 0s 5ms/step - loss: 0.3031 - accuracy: 0.8321 - val_loss: 0.3762 - val_accuracy: 0.7946\n",
            "Epoch 59/100\n",
            "36/36 [==============================] - 0s 6ms/step - loss: 0.3019 - accuracy: 0.8248 - val_loss: 0.3773 - val_accuracy: 0.7924\n",
            "Epoch 60/100\n",
            "36/36 [==============================] - 0s 6ms/step - loss: 0.3021 - accuracy: 0.8315 - val_loss: 0.3680 - val_accuracy: 0.7969\n",
            "Epoch 61/100\n",
            "36/36 [==============================] - 0s 6ms/step - loss: 0.3008 - accuracy: 0.8329 - val_loss: 0.3800 - val_accuracy: 0.7946\n",
            "Epoch 62/100\n",
            "36/36 [==============================] - 0s 7ms/step - loss: 0.2974 - accuracy: 0.8393 - val_loss: 0.3980 - val_accuracy: 0.7835\n",
            "Epoch 63/100\n",
            "36/36 [==============================] - 0s 8ms/step - loss: 0.3005 - accuracy: 0.8298 - val_loss: 0.3844 - val_accuracy: 0.7857\n",
            "Epoch 64/100\n",
            "36/36 [==============================] - 0s 7ms/step - loss: 0.3014 - accuracy: 0.8326 - val_loss: 0.3864 - val_accuracy: 0.7902\n",
            "Epoch 65/100\n",
            "36/36 [==============================] - 0s 8ms/step - loss: 0.2963 - accuracy: 0.8360 - val_loss: 0.3819 - val_accuracy: 0.7879\n",
            "Epoch 66/100\n",
            "36/36 [==============================] - 0s 8ms/step - loss: 0.3000 - accuracy: 0.8335 - val_loss: 0.3759 - val_accuracy: 0.7902\n",
            "Epoch 67/100\n",
            "36/36 [==============================] - 0s 7ms/step - loss: 0.2953 - accuracy: 0.8382 - val_loss: 0.3713 - val_accuracy: 0.7969\n",
            "Epoch 68/100\n",
            "36/36 [==============================] - 0s 8ms/step - loss: 0.2999 - accuracy: 0.8332 - val_loss: 0.3967 - val_accuracy: 0.7835\n",
            "Epoch 69/100\n",
            "36/36 [==============================] - 0s 7ms/step - loss: 0.3011 - accuracy: 0.8340 - val_loss: 0.4117 - val_accuracy: 0.7790\n",
            "Epoch 70/100\n",
            "36/36 [==============================] - 0s 6ms/step - loss: 0.3039 - accuracy: 0.8382 - val_loss: 0.3632 - val_accuracy: 0.7879\n",
            "Epoch 71/100\n",
            "36/36 [==============================] - 0s 6ms/step - loss: 0.2983 - accuracy: 0.8326 - val_loss: 0.3920 - val_accuracy: 0.7991\n",
            "Epoch 72/100\n",
            "36/36 [==============================] - 0s 6ms/step - loss: 0.3052 - accuracy: 0.8298 - val_loss: 0.3710 - val_accuracy: 0.7835\n",
            "Epoch 73/100\n",
            "36/36 [==============================] - 0s 5ms/step - loss: 0.3003 - accuracy: 0.8321 - val_loss: 0.3884 - val_accuracy: 0.7812\n",
            "Epoch 74/100\n",
            "36/36 [==============================] - 0s 5ms/step - loss: 0.3047 - accuracy: 0.8282 - val_loss: 0.3837 - val_accuracy: 0.7924\n",
            "Epoch 75/100\n",
            "36/36 [==============================] - 0s 4ms/step - loss: 0.3017 - accuracy: 0.8360 - val_loss: 0.3663 - val_accuracy: 0.8036\n",
            "Epoch 76/100\n",
            "36/36 [==============================] - 0s 5ms/step - loss: 0.3032 - accuracy: 0.8363 - val_loss: 0.3702 - val_accuracy: 0.8125\n",
            "Epoch 77/100\n",
            "36/36 [==============================] - 0s 4ms/step - loss: 0.3035 - accuracy: 0.8304 - val_loss: 0.3822 - val_accuracy: 0.7812\n",
            "Epoch 78/100\n",
            "36/36 [==============================] - 0s 5ms/step - loss: 0.2928 - accuracy: 0.8413 - val_loss: 0.3956 - val_accuracy: 0.7857\n",
            "Epoch 79/100\n",
            "36/36 [==============================] - 0s 5ms/step - loss: 0.2999 - accuracy: 0.8346 - val_loss: 0.3878 - val_accuracy: 0.7857\n",
            "Epoch 80/100\n",
            "36/36 [==============================] - 0s 5ms/step - loss: 0.2971 - accuracy: 0.8371 - val_loss: 0.3799 - val_accuracy: 0.8013\n",
            "Epoch 81/100\n",
            "36/36 [==============================] - 0s 5ms/step - loss: 0.2964 - accuracy: 0.8357 - val_loss: 0.3794 - val_accuracy: 0.7969\n",
            "Epoch 82/100\n",
            "36/36 [==============================] - 0s 5ms/step - loss: 0.2950 - accuracy: 0.8332 - val_loss: 0.3924 - val_accuracy: 0.8058\n",
            "Epoch 83/100\n",
            "36/36 [==============================] - 0s 5ms/step - loss: 0.3006 - accuracy: 0.8324 - val_loss: 0.4110 - val_accuracy: 0.7946\n",
            "Epoch 84/100\n",
            "36/36 [==============================] - 0s 5ms/step - loss: 0.2966 - accuracy: 0.8349 - val_loss: 0.3887 - val_accuracy: 0.7946\n",
            "Epoch 85/100\n",
            "36/36 [==============================] - 0s 5ms/step - loss: 0.2968 - accuracy: 0.8340 - val_loss: 0.3710 - val_accuracy: 0.7991\n",
            "Epoch 86/100\n",
            "36/36 [==============================] - 0s 5ms/step - loss: 0.2938 - accuracy: 0.8354 - val_loss: 0.3941 - val_accuracy: 0.7991\n",
            "Epoch 87/100\n",
            "36/36 [==============================] - 0s 5ms/step - loss: 0.2963 - accuracy: 0.8354 - val_loss: 0.3743 - val_accuracy: 0.8125\n",
            "Epoch 88/100\n",
            "36/36 [==============================] - 0s 5ms/step - loss: 0.2921 - accuracy: 0.8346 - val_loss: 0.3760 - val_accuracy: 0.8080\n",
            "Epoch 89/100\n",
            "36/36 [==============================] - 0s 5ms/step - loss: 0.2958 - accuracy: 0.8424 - val_loss: 0.3987 - val_accuracy: 0.8013\n",
            "Epoch 90/100\n",
            "36/36 [==============================] - 0s 5ms/step - loss: 0.2980 - accuracy: 0.8354 - val_loss: 0.3971 - val_accuracy: 0.8058\n",
            "Epoch 91/100\n",
            "36/36 [==============================] - 0s 5ms/step - loss: 0.2956 - accuracy: 0.8343 - val_loss: 0.3815 - val_accuracy: 0.8013\n",
            "Epoch 92/100\n",
            "36/36 [==============================] - 0s 5ms/step - loss: 0.2957 - accuracy: 0.8301 - val_loss: 0.3989 - val_accuracy: 0.7969\n",
            "Epoch 93/100\n",
            "36/36 [==============================] - 0s 5ms/step - loss: 0.2949 - accuracy: 0.8354 - val_loss: 0.3867 - val_accuracy: 0.8036\n",
            "Epoch 94/100\n",
            "36/36 [==============================] - 0s 5ms/step - loss: 0.3012 - accuracy: 0.8332 - val_loss: 0.3802 - val_accuracy: 0.8036\n",
            "Epoch 95/100\n",
            "36/36 [==============================] - 0s 5ms/step - loss: 0.2958 - accuracy: 0.8307 - val_loss: 0.3817 - val_accuracy: 0.7991\n",
            "Epoch 96/100\n",
            "36/36 [==============================] - 0s 5ms/step - loss: 0.2953 - accuracy: 0.8351 - val_loss: 0.3718 - val_accuracy: 0.8036\n",
            "Epoch 97/100\n",
            "36/36 [==============================] - 0s 5ms/step - loss: 0.2955 - accuracy: 0.8377 - val_loss: 0.3930 - val_accuracy: 0.8058\n",
            "Epoch 98/100\n",
            "36/36 [==============================] - 0s 5ms/step - loss: 0.2977 - accuracy: 0.8338 - val_loss: 0.3769 - val_accuracy: 0.7991\n",
            "Epoch 99/100\n",
            "36/36 [==============================] - 0s 5ms/step - loss: 0.2934 - accuracy: 0.8405 - val_loss: 0.3961 - val_accuracy: 0.7946\n",
            "Epoch 100/100\n",
            "36/36 [==============================] - 0s 5ms/step - loss: 0.2908 - accuracy: 0.8407 - val_loss: 0.3934 - val_accuracy: 0.8036\n"
          ],
          "name": "stdout"
        },
        {
          "output_type": "execute_result",
          "data": {
            "text/plain": [
              "<tensorflow.python.keras.callbacks.History at 0x7fb428059d30>"
            ]
          },
          "metadata": {
            "tags": []
          },
          "execution_count": 31
        }
      ]
    },
    {
      "cell_type": "markdown",
      "metadata": {
        "id": "TYN4seFiL3j9",
        "colab_type": "text"
      },
      "source": [
        "Initial training accuracy - 84%\n",
        "Validation accuracy - 80.3%"
      ]
    },
    {
      "cell_type": "markdown",
      "metadata": {
        "id": "zi9Mj-vjS8FE",
        "colab_type": "text"
      },
      "source": [
        "### Grid search Batch size and Epochs"
      ]
    },
    {
      "cell_type": "code",
      "metadata": {
        "id": "zF2luAmd_mvF",
        "colab_type": "code",
        "colab": {}
      },
      "source": [
        "input_size = 10\n",
        "hidden_layer_size = 200\n",
        "output_size = 2\n",
        "\n",
        "def CreateModel():\n",
        "  model = tf.keras.Sequential([\n",
        "                               tf.keras.layers.Dense(hidden_layer_size,activation='relu'),\n",
        "                               tf.keras.layers.Dense(hidden_layer_size,activation='relu'),\n",
        "                               tf.keras.layers.Dense(hidden_layer_size,activation='relu'),\n",
        "                               tf.keras.layers.Dense(output_size,activation='softmax')\n",
        "  ])\n",
        "  model.compile(optimizer='adam',loss='sparse_categorical_crossentropy',metrics=['accuracy'])\n",
        "  return model"
      ],
      "execution_count": 18,
      "outputs": []
    },
    {
      "cell_type": "code",
      "metadata": {
        "id": "YfKIRRXa3v6Y",
        "colab_type": "code",
        "colab": {}
      },
      "source": [
        "seed = 7\n",
        "np.random.seed(seed)\n",
        "\n",
        "# create model\n",
        "model = KerasClassifier(build_fn=CreateModel, verbose=0)"
      ],
      "execution_count": 19,
      "outputs": []
    },
    {
      "cell_type": "code",
      "metadata": {
        "id": "QI29RFBK97OY",
        "colab_type": "code",
        "colab": {
          "base_uri": "https://localhost:8080/",
          "height": 374
        },
        "outputId": "2be5b55d-060d-49c0-fa77-2c9226fb62b1"
      },
      "source": [
        "batch_size = [60, 80, 100,150,200]\n",
        "epochs = [50, 100,150,200]\n",
        "param_grid = dict(batch_size=batch_size, epochs=epochs)\n",
        "\n",
        "early_stopping = tf.keras.callbacks.EarlyStopping(patience=2)\n",
        "\n",
        "grid = GridSearchCV(estimator=model, param_grid=param_grid, n_jobs=-1, cv=3)\n",
        "grid_result = grid.fit(train_inputs,train_outputs,validation_data=(validation_inputs,validation_outputs),callbacks=early_stopping)\n",
        "\n",
        "# summarize results\n",
        "print(\"Best: %f using %s\" % (grid_result.best_score_, grid_result.best_params_))\n",
        "means = grid_result.cv_results_['mean_test_score']\n",
        "stds = grid_result.cv_results_['std_test_score']\n",
        "params = grid_result.cv_results_['params']\n",
        "for mean, stdev, param in zip(means, stds, params):\n",
        "    print(\"%f (%f) with: %r\" % (mean, stdev, param))"
      ],
      "execution_count": 20,
      "outputs": [
        {
          "output_type": "stream",
          "text": [
            "Best: 0.814753 using {'batch_size': 200, 'epochs': 150}\n",
            "0.789327 (0.002091) with: {'batch_size': 60, 'epochs': 50}\n",
            "0.801621 (0.007254) with: {'batch_size': 60, 'epochs': 100}\n",
            "0.804135 (0.014874) with: {'batch_size': 60, 'epochs': 150}\n",
            "0.797150 (0.008298) with: {'batch_size': 60, 'epochs': 200}\n",
            "0.813356 (0.015186) with: {'batch_size': 80, 'epochs': 50}\n",
            "0.776474 (0.011127) with: {'batch_size': 80, 'epochs': 100}\n",
            "0.802459 (0.015062) with: {'batch_size': 80, 'epochs': 150}\n",
            "0.797150 (0.010334) with: {'batch_size': 80, 'epochs': 200}\n",
            "0.789885 (0.015186) with: {'batch_size': 100, 'epochs': 50}\n",
            "0.796032 (0.005532) with: {'batch_size': 100, 'epochs': 100}\n",
            "0.803576 (0.023233) with: {'batch_size': 100, 'epochs': 150}\n",
            "0.800503 (0.009655) with: {'batch_size': 100, 'epochs': 200}\n",
            "0.811959 (0.010296) with: {'batch_size': 150, 'epochs': 50}\n",
            "0.810282 (0.006855) with: {'batch_size': 150, 'epochs': 100}\n",
            "0.792400 (0.004125) with: {'batch_size': 150, 'epochs': 150}\n",
            "0.810562 (0.013200) with: {'batch_size': 150, 'epochs': 200}\n",
            "0.808047 (0.014340) with: {'batch_size': 200, 'epochs': 50}\n",
            "0.802459 (0.001581) with: {'batch_size': 200, 'epochs': 100}\n",
            "0.814753 (0.009508) with: {'batch_size': 200, 'epochs': 150}\n",
            "0.791282 (0.017795) with: {'batch_size': 200, 'epochs': 200}\n"
          ],
          "name": "stdout"
        }
      ]
    },
    {
      "cell_type": "markdown",
      "metadata": {
        "id": "DjxCxnSETDEa",
        "colab_type": "text"
      },
      "source": [
        "Best: 0.814753 using {'batch_size': 200, 'epochs': 150}\n",
        "\n",
        "### Grid Search Optimizer"
      ]
    },
    {
      "cell_type": "code",
      "metadata": {
        "id": "PoMlC-xgM56G",
        "colab_type": "code",
        "colab": {}
      },
      "source": [
        "input_size = 10\n",
        "hidden_layer_size = 200\n",
        "output_size = 2\n",
        "\n",
        "def CreateModel(optimizer = 'adam'):\n",
        "  model = tf.keras.Sequential([\n",
        "                               tf.keras.layers.Dense(hidden_layer_size,activation='relu'),\n",
        "                               tf.keras.layers.Dense(hidden_layer_size,activation='relu'),\n",
        "                               tf.keras.layers.Dense(hidden_layer_size,activation='relu'),\n",
        "                               tf.keras.layers.Dense(output_size,activation='softmax')\n",
        "  ])\n",
        "  model.compile(optimizer=optimizer,loss='sparse_categorical_crossentropy',metrics=['accuracy'])\n",
        "  return model"
      ],
      "execution_count": 25,
      "outputs": []
    },
    {
      "cell_type": "code",
      "metadata": {
        "id": "AWBeVZOXTkDS",
        "colab_type": "code",
        "colab": {
          "base_uri": "https://localhost:8080/",
          "height": 153
        },
        "outputId": "b245d63b-09c3-4693-effe-a2cdf3c5b622"
      },
      "source": [
        "seed = 7\n",
        "np.random.seed(seed)\n",
        "\n",
        "# create model using {'batch_size': 200, 'epochs': 150}\n",
        "model = KerasClassifier(build_fn=CreateModel, batch_size = 200, epochs = 150, verbose=0)\n",
        "\n",
        "\n",
        "#Create dictionary of optimizers.\n",
        "optimizer = ['SGD', 'RMSprop', 'Adagrad', 'Adadelta', 'Adam', 'Adamax', 'Nadam']\n",
        "param_grid = dict(optimizer = optimizer)\n",
        "\n",
        "early_stopping = tf.keras.callbacks.EarlyStopping(patience=2)\n",
        "\n",
        "grid = GridSearchCV(estimator=model, param_grid=param_grid, n_jobs=-1, cv=3)\n",
        "grid_result = grid.fit(train_inputs,train_outputs,validation_data=(validation_inputs,validation_outputs),callbacks=early_stopping)\n",
        "\n",
        "# summarize results\n",
        "print(\"Best: %f using %s\" % (grid_result.best_score_, grid_result.best_params_))\n",
        "means = grid_result.cv_results_['mean_test_score']\n",
        "stds = grid_result.cv_results_['std_test_score']\n",
        "params = grid_result.cv_results_['params']\n",
        "for mean, stdev, param in zip(means, stds, params):\n",
        "    print(\"%f (%f) with: %r\" % (mean, stdev, param))"
      ],
      "execution_count": 24,
      "outputs": [
        {
          "output_type": "stream",
          "text": [
            "Best: 0.815870 using {'optimizer': 'Adam'}\n",
            "0.801341 (0.002983) with: {'optimizer': 'SGD'}\n",
            "0.806370 (0.026718) with: {'optimizer': 'RMSprop'}\n",
            "0.778430 (0.003769) with: {'optimizer': 'Adagrad'}\n",
            "0.609109 (0.036088) with: {'optimizer': 'Adadelta'}\n",
            "0.815870 (0.009292) with: {'optimizer': 'Adam'}\n",
            "0.811400 (0.010220) with: {'optimizer': 'Adamax'}\n",
            "0.789327 (0.018584) with: {'optimizer': 'Nadam'}\n"
          ],
          "name": "stdout"
        }
      ]
    },
    {
      "cell_type": "markdown",
      "metadata": {
        "id": "wt_ByiTGqagj",
        "colab_type": "text"
      },
      "source": [
        "{'optimizer': 'Adam'}\n",
        "\n",
        "## Learning Rate"
      ]
    },
    {
      "cell_type": "code",
      "metadata": {
        "id": "chlQPAQ4UZUs",
        "colab_type": "code",
        "colab": {}
      },
      "source": [
        "input_size = 10\n",
        "hidden_layer_size = 200\n",
        "output_size = 2\n",
        "\n",
        "def CreateModel(learn_rate=0.1):\n",
        "  model = tf.keras.Sequential([\n",
        "                               tf.keras.layers.Dense(hidden_layer_size,activation='relu'),\n",
        "                               tf.keras.layers.Dense(hidden_layer_size,activation='relu'),\n",
        "                               tf.keras.layers.Dense(hidden_layer_size,activation='relu'),\n",
        "                               tf.keras.layers.Dense(output_size,activation='softmax')\n",
        "  ])\n",
        "  #optimizer = tf.keras.optimizers.Adamax(learning_rate=learn_rate, beta_1=0.9, beta_2=0.999, epsilon=1e-07, name='Adamax')\n",
        "  optimizer = tf.keras.optimizers.Adam(learning_rate=0.001, beta_1=0.9, beta_2=0.999, epsilon=1e-07, amsgrad=False,name='Adam')\n",
        "  model.compile(optimizer=optimizer,loss='sparse_categorical_crossentropy',metrics=['accuracy'])\n",
        "  return model"
      ],
      "execution_count": 26,
      "outputs": []
    },
    {
      "cell_type": "code",
      "metadata": {
        "id": "xfCBkX1UrVmg",
        "colab_type": "code",
        "colab": {
          "base_uri": "https://localhost:8080/",
          "height": 119
        },
        "outputId": "a924b395-33a4-4455-e091-2ea4dcd70dbd"
      },
      "source": [
        "seed = 7\n",
        "np.random.seed(seed)\n",
        "\n",
        "# create model using {'batch_size': 200, 'epochs': 150}\n",
        "model = KerasClassifier(build_fn=CreateModel, batch_size = 200, epochs = 150, verbose=0)\n",
        "\n",
        "\n",
        "#Create dictionary of Learning rate and momentum parameter beta.\n",
        "learn_rate = [0.001, 0.01, 0.1, 0.2, 0.3]\n",
        "param_grid = dict(learn_rate = learn_rate)\n",
        "\n",
        "early_stopping = tf.keras.callbacks.EarlyStopping(patience=2)\n",
        "\n",
        "grid = GridSearchCV(estimator=model, param_grid=param_grid, n_jobs=-1, cv=3)\n",
        "grid_result = grid.fit(train_inputs,train_outputs,validation_data=(validation_inputs,validation_outputs),callbacks=early_stopping)\n",
        "\n",
        "# summarize results\n",
        "print(\"Best: %f using %s\" % (grid_result.best_score_, grid_result.best_params_))\n",
        "means = grid_result.cv_results_['mean_test_score']\n",
        "stds = grid_result.cv_results_['std_test_score']\n",
        "params = grid_result.cv_results_['params']\n",
        "for mean, stdev, param in zip(means, stds, params):\n",
        "    print(\"%f (%f) with: %r\" % (mean, stdev, param))"
      ],
      "execution_count": 27,
      "outputs": [
        {
          "output_type": "stream",
          "text": [
            "Best: 0.814753 using {'learn_rate': 0.2}\n",
            "0.800503 (0.004791) with: {'learn_rate': 0.001}\n",
            "0.804973 (0.007932) with: {'learn_rate': 0.01}\n",
            "0.793797 (0.022029) with: {'learn_rate': 0.1}\n",
            "0.814753 (0.008410) with: {'learn_rate': 0.2}\n",
            "0.798826 (0.025489) with: {'learn_rate': 0.3}\n"
          ],
          "name": "stdout"
        }
      ]
    },
    {
      "cell_type": "markdown",
      "metadata": {
        "id": "MQ6vglBHxHhy",
        "colab_type": "text"
      },
      "source": [
        "Best: 0.814753 using {'learn_rate': 0.2}\n",
        "Subsequent tests proved 0.2 was suboptimal. Hence we will use a learning rate of 0.001.\n",
        "## Testing all above Hyperparameters"
      ]
    },
    {
      "cell_type": "code",
      "metadata": {
        "id": "_D8Vl4Mt0oMI",
        "colab_type": "code",
        "colab": {}
      },
      "source": [
        "from keras.optimizers import Adam\n",
        "input_size = 10\n",
        "hidden_layer_size = 200\n",
        "output_size = 2\n",
        "\n",
        "model = tf.keras.Sequential([\n",
        "                            tf.keras.layers.Dense(hidden_layer_size,activation='relu'),\n",
        "                            tf.keras.layers.Dense(hidden_layer_size,activation='relu'),\n",
        "                            tf.keras.layers.Dense(hidden_layer_size,activation='relu'),\n",
        "                            tf.keras.layers.Dense(output_size,activation='softmax')\n",
        "])\n",
        "optimizer = Adam(learning_rate=0.001, beta_1=0.9, beta_2=0.999, name='Adam')\n",
        "model.compile(optimizer=optimizer,loss='sparse_categorical_crossentropy',metrics=['accuracy'])\n",
        "\n",
        "batch_size = 150\n",
        "max_epochs = 200\n",
        "\n",
        "history = model.fit(train_inputs,train_outputs,validation_data=(validation_inputs,validation_outputs),batch_size=batch_size, epochs=max_epochs,verbose=0)"
      ],
      "execution_count": 44,
      "outputs": []
    },
    {
      "cell_type": "code",
      "metadata": {
        "id": "p56BYz1gXwF1",
        "colab_type": "code",
        "colab": {
          "base_uri": "https://localhost:8080/",
          "height": 102
        },
        "outputId": "3a0608bb-f8bc-4494-d338-0a80601b23d2"
      },
      "source": [
        "print(f\"Training accuracy : {round(history.history['accuracy'][199] * 100,2)}%\")\n",
        "print(f\"Validaton accuracy : {round(history.history['val_accuracy'][199] * 100,2)}% \\n\")\n",
        "print(f\"Training loss : {round(history.history['loss'][199],2)}\")\n",
        "print(f\"Validation loss : {round(history.history['val_loss'][199],2)}\")\n"
      ],
      "execution_count": 98,
      "outputs": [
        {
          "output_type": "stream",
          "text": [
            "Training accuracy : 84.6%\n",
            "Validaton accuracy : 81.03% \n",
            "\n",
            "Training loss : 0.28\n",
            "Validation loss : 0.44\n"
          ],
          "name": "stdout"
        }
      ]
    },
    {
      "cell_type": "code",
      "metadata": {
        "id": "B5vRV0ScTVSV",
        "colab_type": "code",
        "colab": {
          "base_uri": "https://localhost:8080/",
          "height": 282
        },
        "outputId": "d2639b86-f4f9-4c9f-9421-8b6065fee974"
      },
      "source": [
        "import matplotlib.pyplot as plt\n",
        "plt.plot(history.history['loss'],label='Train')\n",
        "plt.plot(history.history['val_loss'],label='Validation')"
      ],
      "execution_count": 54,
      "outputs": [
        {
          "output_type": "execute_result",
          "data": {
            "text/plain": [
              "[<matplotlib.lines.Line2D at 0x7fb40ef616d8>]"
            ]
          },
          "metadata": {
            "tags": []
          },
          "execution_count": 54
        },
        {
          "output_type": "display_data",
          "data": {
            "image/png": "[encoded data removed]",
            "text/plain": [
              "<Figure size 432x288 with 1 Axes>"
            ]
          },
          "metadata": {
            "tags": [],
            "needs_background": "light"
          }
        }
      ]
    },
    {
      "cell_type": "markdown",
      "metadata": {
        "id": "W-5-goUmXlyQ",
        "colab_type": "text"
      },
      "source": [
        "From the above graph, it's apparent that we need to set an early stopping mechanism to prevent over fitting."
      ]
    },
    {
      "cell_type": "code",
      "metadata": {
        "id": "iMPPE-vRG86f",
        "colab_type": "code",
        "colab": {}
      },
      "source": [
        "#Using early stopping, train the same model.\n",
        "input_size = 10\n",
        "hidden_layer_size = 200\n",
        "output_size = 2\n",
        "\n",
        "model = tf.keras.Sequential([\n",
        "                            tf.keras.layers.Dense(hidden_layer_size,activation='relu'),\n",
        "                            tf.keras.layers.Dense(hidden_layer_size,activation='relu'),\n",
        "                            tf.keras.layers.Dense(hidden_layer_size,activation='relu'),\n",
        "                            tf.keras.layers.Dense(output_size,activation='softmax')\n",
        "])\n",
        "optimizer = Adam(learning_rate=0.001, beta_1=0.9, beta_2=0.999, name='Adam')\n",
        "model.compile(optimizer=optimizer,loss='sparse_categorical_crossentropy',metrics=['accuracy'])\n",
        "\n",
        "batch_size = 150\n",
        "max_epochs = 200\n",
        "early_stopping = tf.keras.callbacks.EarlyStopping(patience=10)\n",
        "\n",
        "history2 = model.fit(train_inputs,train_outputs,validation_data=(validation_inputs,validation_outputs),batch_size=batch_size, epochs=max_epochs,\\\n",
        "          verbose=0,callbacks=early_stopping)\n"
      ],
      "execution_count": 87,
      "outputs": []
    },
    {
      "cell_type": "code",
      "metadata": {
        "id": "O-NUyq2VN-ho",
        "colab_type": "code",
        "colab": {
          "base_uri": "https://localhost:8080/",
          "height": 102
        },
        "outputId": "f8bdc60b-65b3-4b51-cec4-b0ecd8405f8d"
      },
      "source": [
        "print(f\"Training accuracy : {round(history2.history['accuracy'][19] * 100,2)}%\")\n",
        "print(f\"Validaton accuracy : {round(history2.history['val_accuracy'][19] * 100,2)}% \\n\")\n",
        "print(f\"Training loss : {round(history2.history['loss'][19],2)}\")\n",
        "print(f\"Validation loss : {round(history2.history['val_loss'][19],2)}\")\n"
      ],
      "execution_count": 100,
      "outputs": [
        {
          "output_type": "stream",
          "text": [
            "Training accuracy : 82.59%\n",
            "Validaton accuracy : 79.02% \n",
            "\n",
            "Training loss : 0.32\n",
            "Validation loss : 0.37\n"
          ],
          "name": "stdout"
        }
      ]
    },
    {
      "cell_type": "code",
      "metadata": {
        "id": "ax9q8UeFfLpO",
        "colab_type": "code",
        "colab": {
          "base_uri": "https://localhost:8080/",
          "height": 282
        },
        "outputId": "8903ad08-54a5-47a1-a4b3-414721f99ef1"
      },
      "source": [
        "plt.plot(history2.history['loss'],label='Training')\n",
        "plt.plot(history2.history['val_loss'],label='Validation')\n"
      ],
      "execution_count": 101,
      "outputs": [
        {
          "output_type": "execute_result",
          "data": {
            "text/plain": [
              "[<matplotlib.lines.Line2D at 0x7fb40e801f28>]"
            ]
          },
          "metadata": {
            "tags": []
          },
          "execution_count": 101
        },
        {
          "output_type": "display_data",
          "data": {
            "image/png": "[encoded data removed]",
            "text/plain": [
              "<Figure size 432x288 with 1 Axes>"
            ]
          },
          "metadata": {
            "tags": [],
            "needs_background": "light"
          }
        }
      ]
    },
    {
      "cell_type": "markdown",
      "metadata": {
        "id": "KI8Uy31ANH0Z",
        "colab_type": "text"
      },
      "source": [
        "## Testing"
      ]
    },
    {
      "cell_type": "code",
      "metadata": {
        "id": "NqqZ-5rhMTdX",
        "colab_type": "code",
        "colab": {
          "base_uri": "https://localhost:8080/",
          "height": 34
        },
        "outputId": "c75129dc-e80b-44c7-e864-15fbede13b8b"
      },
      "source": [
        "test_loss,test_accuracy = model.evaluate(test_inputs,test_outputs)"
      ],
      "execution_count": 102,
      "outputs": [
        {
          "output_type": "stream",
          "text": [
            "14/14 [==============================] - 0s 1ms/step - loss: 0.3065 - accuracy: 0.8434\n"
          ],
          "name": "stdout"
        }
      ]
    },
    {
      "cell_type": "code",
      "metadata": {
        "id": "lFGPrDlchkz6",
        "colab_type": "code",
        "colab": {
          "base_uri": "https://localhost:8080/",
          "height": 51
        },
        "outputId": "5844ba7d-d707-45a1-a631-64f4a399f2e6"
      },
      "source": [
        "print(\"Testing accuracy : {}% \\nTesting loss : {}\".format(round(test_accuracy *100,2),round(test_loss,2)))"
      ],
      "execution_count": 111,
      "outputs": [
        {
          "output_type": "stream",
          "text": [
            "Testing accuracy : 84.34% \n",
            "Testing loss : 0.31\n"
          ],
          "name": "stdout"
        }
      ]
    }
  ]
}